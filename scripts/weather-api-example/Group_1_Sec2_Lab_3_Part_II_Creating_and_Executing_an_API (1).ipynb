{
 "cells": [
  {
   "cell_type": "markdown",
   "metadata": {
    "id": "CojT76QDBmhP"
   },
   "source": [
    "# Fetching Weather Data and Uploading to AWS S3\n",
    "\n",
    "This guide provides steps for fetching weather data using the OpenWeatherMap API and then uploading the data to an Amazon S3 bucket using Python.\n",
    "\n",
    "## Step 1: Obtain an API Key from OpenWeatherMap\n",
    "\n",
    "1. Register on the [OpenWeatherMap website](https://openweathermap.org/) and create an account.\n",
    "2. Find and copy the API key from your account dashboard.\n",
    "\n",
    "## Step 2: Write Python Function to Fetch Weather Data"
   ]
  },
  {
   "cell_type": "code",
   "execution_count": 12,
   "metadata": {
    "id": "IhtMAOMHBiyt"
   },
   "outputs": [],
   "source": [
    "import requests\n",
    "\n",
    "def get_weather_data(city, api_key):\n",
    "    base_url = \"https://api.openweathermap.org/data/2.5/weather\"\n",
    "    params = {'q': city, 'appid': api_key}\n",
    "    response = requests.get(base_url, params=params)\n",
    "    if response.status_code == 200:\n",
    "        return response.json()\n",
    "    else:\n",
    "        raise Exception(\"Failed to fetch weather data\")"
   ]
  },
  {
   "cell_type": "markdown",
   "metadata": {
    "id": "qGIMEi1-Bvbm"
   },
   "source": [
    "## Step 3: Set Up AWS Credentials for S3 Access\n",
    "* Install Boto3 using pip install boto3.\n",
    "* Configure AWS credentials (AWS Access Key ID and Secret Access Key)."
   ]
  },
  {
   "cell_type": "code",
   "execution_count": 13,
   "metadata": {
    "colab": {
     "base_uri": "https://localhost:8080/"
    },
    "id": "lZW3uJbuB489",
    "outputId": "aebe3abe-9c4c-4927-e4d0-b83aba818bf7"
   },
   "outputs": [
    {
     "name": "stdout",
     "output_type": "stream",
     "text": [
      "Requirement already satisfied: boto3 in c:\\users\\deepa\\anaconda3\\lib\\site-packages (1.24.28)\n",
      "Requirement already satisfied: botocore<1.28.0,>=1.27.28 in c:\\users\\deepa\\anaconda3\\lib\\site-packages (from boto3) (1.27.59)\n",
      "Requirement already satisfied: jmespath<2.0.0,>=0.7.1 in c:\\users\\deepa\\anaconda3\\lib\\site-packages (from boto3) (0.10.0)\n",
      "Requirement already satisfied: s3transfer<0.7.0,>=0.6.0 in c:\\users\\deepa\\anaconda3\\lib\\site-packages (from boto3) (0.6.0)\n",
      "Requirement already satisfied: python-dateutil<3.0.0,>=2.1 in c:\\users\\deepa\\anaconda3\\lib\\site-packages (from botocore<1.28.0,>=1.27.28->boto3) (2.8.2)\n",
      "Requirement already satisfied: urllib3<1.27,>=1.25.4 in c:\\users\\deepa\\anaconda3\\lib\\site-packages (from botocore<1.28.0,>=1.27.28->boto3) (1.26.16)\n",
      "Requirement already satisfied: six>=1.5 in c:\\users\\deepa\\anaconda3\\lib\\site-packages (from python-dateutil<3.0.0,>=2.1->botocore<1.28.0,>=1.27.28->boto3) (1.16.0)\n"
     ]
    }
   ],
   "source": [
    "!pip install boto3"
   ]
  },
  {
   "cell_type": "markdown",
   "metadata": {},
   "source": [
    "## Creating Bucket Named \"group-1-sec2-deepakguda-lab3\""
   ]
  },
  {
   "cell_type": "code",
   "execution_count": 14,
   "metadata": {},
   "outputs": [
    {
     "name": "stdout",
     "output_type": "stream",
     "text": [
      "Bucket \"group-1-sec2-deepakguda-lab3\" created successfully.\n"
     ]
    }
   ],
   "source": [
    "import logging\n",
    "import boto3\n",
    "from botocore.exceptions import ClientError\n",
    "\n",
    "def create_bucket(bucket_name, region=None):\n",
    "    \"\"\"Create an S3 bucket in a specified region. If a region is not specified,\n",
    "    the bucket is created in the S3 default region (us-east-1).\n",
    "\n",
    "    :param bucket_name: Bucket to create\n",
    "    :param region: String region to create bucket in, e.g., 'us-east-2'\n",
    "    :return: True if bucket created, else False\n",
    "    \"\"\"\n",
    "    try:\n",
    "        if region is None:\n",
    "            s3_client = boto3.client('s3')\n",
    "            s3_client.create_bucket(Bucket=bucket_name)\n",
    "        else:\n",
    "            s3_client = boto3.client('s3', region_name=region)\n",
    "            location = {'LocationConstraint': region}\n",
    "            s3_client.create_bucket(Bucket=bucket_name, CreateBucketConfiguration=location)\n",
    "    except ClientError as e:\n",
    "        logging.error(e)\n",
    "        return False\n",
    "    return True\n",
    "\n",
    "# Attempt to create the bucket\n",
    "bucket_name = 'group-1-sec2-deepakguda-lab3'  # Ensure this is globally unique and all lowercase\n",
    "region = 'us-east-2'  # Specify your region\n",
    "\n",
    "if create_bucket(bucket_name, region):\n",
    "    print(f'Bucket \"{bucket_name}\" created successfully.')\n",
    "else:\n",
    "    print(f'Failed to create bucket \"{bucket_name}\". Please check the logs for more details.')\n"
   ]
  },
  {
   "cell_type": "markdown",
   "metadata": {
    "id": "vnn-pfSWCXfi"
   },
   "source": [
    "## Step 4: Write Python Function to Upload Data to S3\n"
   ]
  },
  {
   "cell_type": "code",
   "execution_count": 15,
   "metadata": {
    "id": "Ja7gCT4CCVt4"
   },
   "outputs": [],
   "source": [
    "import boto3\n",
    "import json\n",
    "\n",
    "def upload_to_s3(bucket_name, file_name, data):\n",
    "    s3 = boto3.client('s3')\n",
    "    s3.put_object(Bucket=bucket_name, Key=file_name, Body=json.dumps(data))"
   ]
  },
  {
   "cell_type": "markdown",
   "metadata": {
    "id": "G795_fa1CcgS"
   },
   "source": [
    "## Step 5: Combine the Functions in a Script\n"
   ]
  },
  {
   "cell_type": "code",
   "execution_count": 16,
   "metadata": {
    "colab": {
     "base_uri": "https://localhost:8080/"
    },
    "id": "qObZbAK8Ce9C",
    "outputId": "05c3b5f4-c8d8-4dc7-9cad-cb833493f762"
   },
   "outputs": [
    {
     "name": "stdout",
     "output_type": "stream",
     "text": [
      "Data uploaded successfully to S3\n"
     ]
    }
   ],
   "source": [
    "# Main execution\n",
    "api_key = \"adcab481fd5580f93f0f7010daf6ff8f\"   # Replace with your API key\n",
    "city = \"London\"  # Replace with desired city\n",
    "bucket_name = \"group-1-sec2-deepakguda-lab3\"  # Replace with your S3 bucket name\n",
    "file_name = \"weather_data.json\"\n",
    "\n",
    "try:\n",
    "    weather_data = get_weather_data(city, api_key)\n",
    "    upload_to_s3(bucket_name, file_name, weather_data)\n",
    "    print(\"Data uploaded successfully to S3\")\n",
    "except Exception as e:\n",
    "    print(f\"An error occurred: {e}\")"
   ]
  },
  {
   "cell_type": "markdown",
   "metadata": {
    "id": "0O_jA3tBCVJY"
   },
   "source": []
  },
  {
   "cell_type": "code",
   "execution_count": 17,
   "metadata": {
    "colab": {
     "base_uri": "https://localhost:8080/"
    },
    "id": "WlFDrpu_Co3T",
    "outputId": "62eba14a-296a-4d75-b03c-4506d47983fd"
   },
   "outputs": [
    {
     "name": "stdout",
     "output_type": "stream",
     "text": [
      "{'coord': {'lon': -0.1257, 'lat': 51.5085}, 'weather': [{'id': 804, 'main': 'Clouds', 'description': 'overcast clouds', 'icon': '04n'}], 'base': 'stations', 'main': {'temp': 282.86, 'feels_like': 280.99, 'temp_min': 281.54, 'temp_max': 284.01, 'pressure': 1008, 'humidity': 87}, 'visibility': 10000, 'wind': {'speed': 3.6, 'deg': 200}, 'clouds': {'all': 90}, 'dt': 1712543400, 'sys': {'type': 2, 'id': 2091269, 'country': 'GB', 'sunrise': 1712553549, 'sunset': 1712601896}, 'timezone': 3600, 'id': 2643743, 'name': 'London', 'cod': 200}\n"
     ]
    }
   ],
   "source": [
    "# Example usage\n",
    "api_key = \"adcab481fd5580f93f0f7010daf6ff8f\"  # Replace with your actual API key\n",
    "city = \"London\"\n",
    "try:\n",
    "    weather_data = get_weather_data(city, api_key)\n",
    "    print(weather_data)\n",
    "except Exception as e:\n",
    "    print(f\"An error occurred: {e}\")"
   ]
  },
  {
   "cell_type": "markdown",
   "metadata": {},
   "source": [
    "# Assignment: Groups to Convert JSON to CSV\n",
    "\n",
    "Step 1. Take the JSON output and convert it to a Dataframe using pandas\n",
    "Step 2. Now upload the CSV file to the 'group-1-sec2-deepakguda-lab3' S3 bucket in the cloud with the following naming convention: <your group name>_weather_date_london_<datetimestamp>.csv\n"
   ]
  },
  {
   "cell_type": "code",
   "execution_count": 18,
   "metadata": {},
   "outputs": [],
   "source": [
    "import pandas as pd\n",
    "\n",
    "# Convert to DataFrame\n",
    "def flatten_json(json_obj, prefix=''):\n",
    "    \"\"\"\n",
    "    Flatten a JSON object into a dictionary with flattened keys.\n",
    "\n",
    "    Args:\n",
    "        json_obj (dict): The JSON object to flatten.\n",
    "        prefix (str): Prefix to prepend to flattened keys.\n",
    "\n",
    "    Returns:\n",
    "        dict: Flattened dictionary.\n",
    "    \"\"\"\n",
    "    flat_dict = {}  # Initialize an empty dictionary to store flattened key-value pairs\n",
    "    for key, value in json_obj.items():  \n",
    "        if isinstance(value, dict):  \n",
    "            flat_dict.update(flatten_json(value, prefix + key + '_'))  \n",
    "        elif isinstance(value, list):  \n",
    "            for i, item in enumerate(value):  \n",
    "                flat_dict.update(flatten_json(item, prefix + key + '_'))  \n",
    "        else:  \n",
    "            flat_dict[prefix + key] = value  # Add the key-value pair to the flattened dictionary\n",
    "\n",
    "    return flat_dict  # Return the flattened dictionary"
   ]
  },
  {
   "cell_type": "code",
   "execution_count": 19,
   "metadata": {},
   "outputs": [
    {
     "data": {
      "text/html": [
       "<div>\n",
       "<style scoped>\n",
       "    .dataframe tbody tr th:only-of-type {\n",
       "        vertical-align: middle;\n",
       "    }\n",
       "\n",
       "    .dataframe tbody tr th {\n",
       "        vertical-align: top;\n",
       "    }\n",
       "\n",
       "    .dataframe thead th {\n",
       "        text-align: right;\n",
       "    }\n",
       "</style>\n",
       "<table border=\"1\" class=\"dataframe\">\n",
       "  <thead>\n",
       "    <tr style=\"text-align: right;\">\n",
       "      <th></th>\n",
       "      <th>coord_lon</th>\n",
       "      <th>coord_lat</th>\n",
       "      <th>weather_id</th>\n",
       "      <th>weather_main</th>\n",
       "      <th>weather_description</th>\n",
       "      <th>weather_icon</th>\n",
       "      <th>base</th>\n",
       "      <th>main_temp</th>\n",
       "      <th>main_feels_like</th>\n",
       "      <th>main_temp_min</th>\n",
       "      <th>...</th>\n",
       "      <th>dt</th>\n",
       "      <th>sys_type</th>\n",
       "      <th>sys_id</th>\n",
       "      <th>sys_country</th>\n",
       "      <th>sys_sunrise</th>\n",
       "      <th>sys_sunset</th>\n",
       "      <th>timezone</th>\n",
       "      <th>id</th>\n",
       "      <th>name</th>\n",
       "      <th>cod</th>\n",
       "    </tr>\n",
       "  </thead>\n",
       "  <tbody>\n",
       "    <tr>\n",
       "      <th>0</th>\n",
       "      <td>-0.1257</td>\n",
       "      <td>51.5085</td>\n",
       "      <td>804</td>\n",
       "      <td>Clouds</td>\n",
       "      <td>overcast clouds</td>\n",
       "      <td>04n</td>\n",
       "      <td>stations</td>\n",
       "      <td>282.86</td>\n",
       "      <td>280.99</td>\n",
       "      <td>281.54</td>\n",
       "      <td>...</td>\n",
       "      <td>1712543400</td>\n",
       "      <td>2</td>\n",
       "      <td>2091269</td>\n",
       "      <td>GB</td>\n",
       "      <td>1712553549</td>\n",
       "      <td>1712601896</td>\n",
       "      <td>3600</td>\n",
       "      <td>2643743</td>\n",
       "      <td>London</td>\n",
       "      <td>200</td>\n",
       "    </tr>\n",
       "  </tbody>\n",
       "</table>\n",
       "<p>1 rows × 27 columns</p>\n",
       "</div>"
      ],
      "text/plain": [
       "   coord_lon  coord_lat  weather_id weather_main weather_description  \\\n",
       "0    -0.1257    51.5085         804       Clouds     overcast clouds   \n",
       "\n",
       "  weather_icon      base  main_temp  main_feels_like  main_temp_min  ...  \\\n",
       "0          04n  stations     282.86           280.99         281.54  ...   \n",
       "\n",
       "           dt  sys_type   sys_id  sys_country  sys_sunrise  sys_sunset  \\\n",
       "0  1712543400         2  2091269           GB   1712553549  1712601896   \n",
       "\n",
       "   timezone       id    name  cod  \n",
       "0      3600  2643743  London  200  \n",
       "\n",
       "[1 rows x 27 columns]"
      ]
     },
     "execution_count": 19,
     "metadata": {},
     "output_type": "execute_result"
    }
   ],
   "source": [
    "# Flatten the JSON-like data\n",
    "dict_csv = flatten_json(weather_data)\n",
    "\n",
    "# Create DataFrame from flattened dictionary\n",
    "df = pd.DataFrame([dict_csv])\n",
    "\n",
    "# Print DataFrame\n",
    "df"
   ]
  },
  {
   "cell_type": "markdown",
   "metadata": {},
   "source": [
    "Step 2. Now upload the CSV file to the 'group-1-sec2-deepakguda-lab3' S3 bucket in the cloud with the following naming convention: weather_date_london.csv"
   ]
  },
  {
   "cell_type": "code",
   "execution_count": 20,
   "metadata": {},
   "outputs": [
    {
     "name": "stdout",
     "output_type": "stream",
     "text": [
      "Data as csv uploaded successfully to S3\n"
     ]
    }
   ],
   "source": [
    "from datetime import datetime\n",
    "\n",
    "# Create a timestamp for the filename\n",
    "timestamp = datetime.utcfromtimestamp(weather_data['dt']).strftime('%Y-%m-%d_%H%M%S')\n",
    "filename = f\"group_1-sec2_deepakguda_weather_date_london_{timestamp}.csv\"  # actual group name\n",
    "\n",
    "# Save to CSV\n",
    "df.to_csv(filename, index=False)\n",
    "\n",
    "# Now, for uploading to S3, ensure you have boto3 installed and configured\n",
    "def upload_csv_to_s3(bucket_name, file_name, object_name=None):\n",
    "    if object_name is None:\n",
    "        object_name = file_name\n",
    "    s3_client = boto3.client('s3')\n",
    "    response = s3_client.upload_file(file_name, bucket_name, object_name)\n",
    "\n",
    "# Upload the file\n",
    "try:\n",
    "    bucket_name = 'group-1-sec2-deepakguda-lab3'  # S3 bucket name\n",
    "    upload_csv_to_s3(bucket_name, filename)\n",
    "    print(\"Data as csv uploaded successfully to S3\")\n",
    "except Exception as e:\n",
    "    print(f\"An error occurred: {e}\")\n",
    "\n",
    "### END CODE ###"
   ]
  }
 ],
 "metadata": {
  "colab": {
   "provenance": []
  },
  "kernelspec": {
   "display_name": "Python 3 (ipykernel)",
   "language": "python",
   "name": "python3"
  },
  "language_info": {
   "codemirror_mode": {
    "name": "ipython",
    "version": 3
   },
   "file_extension": ".py",
   "mimetype": "text/x-python",
   "name": "python",
   "nbconvert_exporter": "python",
   "pygments_lexer": "ipython3",
   "version": "3.11.4"
  }
 },
 "nbformat": 4,
 "nbformat_minor": 1
}
